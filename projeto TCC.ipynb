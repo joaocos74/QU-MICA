{
 "cells": [
  {
   "cell_type": "code",
   "execution_count": 1,
   "metadata": {},
   "outputs": [],
   "source": [
    "from rdkit import Chem\n",
    "from rdkit.Chem import Draw\n",
    "\n",
    "# Defina a SMILES que você deseja visualizar\n",
    "smiles = 'CS(=O)(=O)C1=CC=C(C=C1)C2=C(C(=O)OC2)C3=CC=CC=C3'\n",
    "\n",
    "# Crie um objeto de molécula a partir da SMILES\n",
    "mol = Chem.MolFromSmiles(smiles)\n",
    "\n",
    "# Desenhe a molécula\n",
    "img = Draw.MolToImage(mol)\n",
    "\n",
    "# Exiba a imagem\n",
    "img.show()"
   ]
  },
  {
   "cell_type": "code",
   "execution_count": 2,
   "metadata": {},
   "outputs": [
    {
     "name": "stderr",
     "output_type": "stream",
     "text": [
      "[11:52:27] Molecule does not have explicit Hs. Consider calling AddHs()\n"
     ]
    },
    {
     "data": {
      "application/3dmoljs_load.v0": "<div id=\"3dmolviewer_16856311472829463\"  style=\"position: relative; width: 400px; height: 400px;\">\n        <p id=\"3dmolwarning_16856311472829463\" style=\"background-color:#ffcccc;color:black\">You appear to be running in JupyterLab (or JavaScript failed to load for some other reason).  You need to install the 3dmol extension: <br>\n        <tt>jupyter labextension install jupyterlab_3dmol</tt></p>\n        </div>\n<script>\n\nvar loadScriptAsync = function(uri){\n  return new Promise((resolve, reject) => {\n    //this is to ignore the existence of requirejs amd\n    var savedexports, savedmodule;\n    if (typeof exports !== 'undefined') savedexports = exports;\n    else exports = {}\n    if (typeof module !== 'undefined') savedmodule = module;\n    else module = {}\n\n    var tag = document.createElement('script');\n    tag.src = uri;\n    tag.async = true;\n    tag.onload = () => {\n        exports = savedexports;\n        module = savedmodule;\n        resolve();\n    };\n  var firstScriptTag = document.getElementsByTagName('script')[0];\n  firstScriptTag.parentNode.insertBefore(tag, firstScriptTag);\n});\n};\n\nif(typeof $3Dmolpromise === 'undefined') {\n$3Dmolpromise = null;\n  $3Dmolpromise = loadScriptAsync('https://cdnjs.cloudflare.com/ajax/libs/3Dmol/2.0.3/3Dmol-min.js');\n}\n\nvar viewer_16856311472829463 = null;\nvar warn = document.getElementById(\"3dmolwarning_16856311472829463\");\nif(warn) {\n    warn.parentNode.removeChild(warn);\n}\n$3Dmolpromise.then(function() {\nviewer_16856311472829463 = $3Dmol.createViewer(document.getElementById(\"3dmolviewer_16856311472829463\"),{backgroundColor:\"white\"});\nviewer_16856311472829463.zoomTo();\n\tviewer_16856311472829463.addModel(\"HETATM    1  C1  UNL     1       4.811   2.523  -0.771  1.00  0.00           C  \\nHETATM    2  S1  UNL     1       4.521   1.247   0.384  1.00  0.00           S  \\nHETATM    3  O1  UNL     1       5.581   0.187   0.216  1.00  0.00           O  \\nHETATM    4  O2  UNL     1       4.605   1.720   1.796  1.00  0.00           O  \\nHETATM    5  C2  UNL     1       2.972   0.474   0.156  1.00  0.00           C  \\nHETATM    6  C3  UNL     1       2.718  -0.665   0.871  1.00  0.00           C  \\nHETATM    7  C4  UNL     1       1.512  -1.297   0.725  1.00  0.00           C  \\nHETATM    8  C5  UNL     1       0.506  -0.835  -0.131  1.00  0.00           C  \\nHETATM    9  C6  UNL     1       0.761   0.306  -0.850  1.00  0.00           C  \\nHETATM   10  C7  UNL     1       1.992   0.948  -0.699  1.00  0.00           C  \\nHETATM   11  C8  UNL     1      -0.723  -1.597  -0.207  1.00  0.00           C  \\nHETATM   12  C9  UNL     1      -1.947  -1.152  -0.223  1.00  0.00           C  \\nHETATM   13  C10 UNL     1      -2.845  -2.324  -0.311  1.00  0.00           C  \\nHETATM   14  O3  UNL     1      -4.091  -2.234  -0.348  1.00  0.00           O  \\nHETATM   15  O4  UNL     1      -2.082  -3.465  -0.344  1.00  0.00           O  \\nHETATM   16  C11 UNL     1      -0.721  -3.102  -0.285  1.00  0.00           C  \\nHETATM   17  C12 UNL     1      -2.451   0.221  -0.162  1.00  0.00           C  \\nHETATM   18  C13 UNL     1      -1.885   1.211  -0.902  1.00  0.00           C  \\nHETATM   19  C14 UNL     1      -2.331   2.538  -0.865  1.00  0.00           C  \\nHETATM   20  C15 UNL     1      -3.394   2.846  -0.038  1.00  0.00           C  \\nHETATM   21  C16 UNL     1      -3.981   1.880   0.715  1.00  0.00           C  \\nHETATM   22  C17 UNL     1      -3.528   0.569   0.667  1.00  0.00           C  \\nCONECT    1    2\\nCONECT    2    3    3    4    4\\nCONECT    2    5\\nCONECT    5    6    6   10\\nCONECT    6    7\\nCONECT    7    8    8\\nCONECT    8    9   11\\nCONECT    9   10   10\\nCONECT   11   12   12   16\\nCONECT   12   13   17\\nCONECT   13   14   14   15\\nCONECT   15   16\\nCONECT   17   18   18   22\\nCONECT   18   19\\nCONECT   19   20   20\\nCONECT   20   21\\nCONECT   21   22   22\\nEND\\n\",\"pdb\");\n\tviewer_16856311472829463.setStyle({\"stick\": {}});\n\tviewer_16856311472829463.zoomTo();\nviewer_16856311472829463.render();\n});\n</script>",
      "text/html": [
       "<div id=\"3dmolviewer_16856311472829463\"  style=\"position: relative; width: 400px; height: 400px;\">\n",
       "        <p id=\"3dmolwarning_16856311472829463\" style=\"background-color:#ffcccc;color:black\">You appear to be running in JupyterLab (or JavaScript failed to load for some other reason).  You need to install the 3dmol extension: <br>\n",
       "        <tt>jupyter labextension install jupyterlab_3dmol</tt></p>\n",
       "        </div>\n",
       "<script>\n",
       "\n",
       "var loadScriptAsync = function(uri){\n",
       "  return new Promise((resolve, reject) => {\n",
       "    //this is to ignore the existence of requirejs amd\n",
       "    var savedexports, savedmodule;\n",
       "    if (typeof exports !== 'undefined') savedexports = exports;\n",
       "    else exports = {}\n",
       "    if (typeof module !== 'undefined') savedmodule = module;\n",
       "    else module = {}\n",
       "\n",
       "    var tag = document.createElement('script');\n",
       "    tag.src = uri;\n",
       "    tag.async = true;\n",
       "    tag.onload = () => {\n",
       "        exports = savedexports;\n",
       "        module = savedmodule;\n",
       "        resolve();\n",
       "    };\n",
       "  var firstScriptTag = document.getElementsByTagName('script')[0];\n",
       "  firstScriptTag.parentNode.insertBefore(tag, firstScriptTag);\n",
       "});\n",
       "};\n",
       "\n",
       "if(typeof $3Dmolpromise === 'undefined') {\n",
       "$3Dmolpromise = null;\n",
       "  $3Dmolpromise = loadScriptAsync('https://cdnjs.cloudflare.com/ajax/libs/3Dmol/2.0.3/3Dmol-min.js');\n",
       "}\n",
       "\n",
       "var viewer_16856311472829463 = null;\n",
       "var warn = document.getElementById(\"3dmolwarning_16856311472829463\");\n",
       "if(warn) {\n",
       "    warn.parentNode.removeChild(warn);\n",
       "}\n",
       "$3Dmolpromise.then(function() {\n",
       "viewer_16856311472829463 = $3Dmol.createViewer(document.getElementById(\"3dmolviewer_16856311472829463\"),{backgroundColor:\"white\"});\n",
       "viewer_16856311472829463.zoomTo();\n",
       "\tviewer_16856311472829463.addModel(\"HETATM    1  C1  UNL     1       4.811   2.523  -0.771  1.00  0.00           C  \\nHETATM    2  S1  UNL     1       4.521   1.247   0.384  1.00  0.00           S  \\nHETATM    3  O1  UNL     1       5.581   0.187   0.216  1.00  0.00           O  \\nHETATM    4  O2  UNL     1       4.605   1.720   1.796  1.00  0.00           O  \\nHETATM    5  C2  UNL     1       2.972   0.474   0.156  1.00  0.00           C  \\nHETATM    6  C3  UNL     1       2.718  -0.665   0.871  1.00  0.00           C  \\nHETATM    7  C4  UNL     1       1.512  -1.297   0.725  1.00  0.00           C  \\nHETATM    8  C5  UNL     1       0.506  -0.835  -0.131  1.00  0.00           C  \\nHETATM    9  C6  UNL     1       0.761   0.306  -0.850  1.00  0.00           C  \\nHETATM   10  C7  UNL     1       1.992   0.948  -0.699  1.00  0.00           C  \\nHETATM   11  C8  UNL     1      -0.723  -1.597  -0.207  1.00  0.00           C  \\nHETATM   12  C9  UNL     1      -1.947  -1.152  -0.223  1.00  0.00           C  \\nHETATM   13  C10 UNL     1      -2.845  -2.324  -0.311  1.00  0.00           C  \\nHETATM   14  O3  UNL     1      -4.091  -2.234  -0.348  1.00  0.00           O  \\nHETATM   15  O4  UNL     1      -2.082  -3.465  -0.344  1.00  0.00           O  \\nHETATM   16  C11 UNL     1      -0.721  -3.102  -0.285  1.00  0.00           C  \\nHETATM   17  C12 UNL     1      -2.451   0.221  -0.162  1.00  0.00           C  \\nHETATM   18  C13 UNL     1      -1.885   1.211  -0.902  1.00  0.00           C  \\nHETATM   19  C14 UNL     1      -2.331   2.538  -0.865  1.00  0.00           C  \\nHETATM   20  C15 UNL     1      -3.394   2.846  -0.038  1.00  0.00           C  \\nHETATM   21  C16 UNL     1      -3.981   1.880   0.715  1.00  0.00           C  \\nHETATM   22  C17 UNL     1      -3.528   0.569   0.667  1.00  0.00           C  \\nCONECT    1    2\\nCONECT    2    3    3    4    4\\nCONECT    2    5\\nCONECT    5    6    6   10\\nCONECT    6    7\\nCONECT    7    8    8\\nCONECT    8    9   11\\nCONECT    9   10   10\\nCONECT   11   12   12   16\\nCONECT   12   13   17\\nCONECT   13   14   14   15\\nCONECT   15   16\\nCONECT   17   18   18   22\\nCONECT   18   19\\nCONECT   19   20   20\\nCONECT   20   21\\nCONECT   21   22   22\\nEND\\n\",\"pdb\");\n",
       "\tviewer_16856311472829463.setStyle({\"stick\": {}});\n",
       "\tviewer_16856311472829463.zoomTo();\n",
       "viewer_16856311472829463.render();\n",
       "});\n",
       "</script>"
      ]
     },
     "metadata": {},
     "output_type": "display_data"
    }
   ],
   "source": [
    "import py3Dmol\n",
    "from rdkit import Chem\n",
    "from rdkit.Chem import AllChem\n",
    "\n",
    "# Defina a SMILES que você deseja visualizar\n",
    "\n",
    "\n",
    "# Crie um objeto de molécula a partir da SMILES\n",
    "mol = Chem.MolFromSmiles(smiles)\n",
    "\n",
    "# Execute a geração de coordenadas 3D usando o método 'ETKDG'\n",
    "AllChem.EmbedMolecule(mol, AllChem.ETKDG())\n",
    "\n",
    "# Converta a molécula em formato pdb\n",
    "pdb = Chem.MolToPDBBlock(mol)\n",
    "\n",
    "# Crie um objeto de visualização 3D\n",
    "view = py3Dmol.view(width=400, height=400)\n",
    "\n",
    "# Adicione a molécula à visualização\n",
    "view.addModel(pdb, 'pdb')\n",
    "\n",
    "# Defina o estilo da molécula\n",
    "view.setStyle({'stick': {}})\n",
    "\n",
    "\n",
    "# stick: Mostra as ligações entre os átomos como cilindros finos.\n",
    "# sphere: Mostra os átomos como esferas.\n",
    "# line: Mostra as ligações entre os átomos como linhas finas.\n",
    "# cartoon: Mostra a molécula como uma representação esquemática em que as hélices alfa e as folhas beta são representadas por cilindros e planos, respectivamente.\n",
    "# surface: Mostra a molécula como uma superfície contínua, destacando regiões hidrofóbicas e hidrofílicas.\n",
    "\n",
    "# Gire a visualização para uma posição melhor\n",
    "view.zoomTo()\n",
    "\n",
    "# Exiba a visualização\n",
    "view.show()"
   ]
  },
  {
   "cell_type": "code",
   "execution_count": 3,
   "metadata": {},
   "outputs": [
    {
     "name": "stdout",
     "output_type": "stream",
     "text": [
      "Molécula: CS(=O)(=O)C1=CC=C(C=C1)C2=C(C(=O)OC2)C3=CC=CC=C3\n",
      "Peso Molecular: 314.36\n",
      "LogP: 2.56\n",
      "Doadores de Hidrogênio: 0\n",
      "Acceptores de Hidrogênio: 4\n",
      "TPSA: 60.44\n",
      "Número de ligações rotacionais: 3\n",
      "Número de anéis aromáticos: 2\n",
      "Número de heteroátomos: 5\n",
      "Número de átomos pesados: 22\n",
      "Número de anéis: 3\n"
     ]
    }
   ],
   "source": [
    "from rdkit import Chem\n",
    "from rdkit.Chem import Descriptors, Crippen, Lipinski\n",
    "\n",
    "\n",
    "# Crie um objeto de molécula a partir da SMILES\n",
    "mol = Chem.MolFromSmiles(smiles)\n",
    "\n",
    "# Calcule as propriedades químicas da molécula\n",
    "mw = Descriptors.MolWt(mol)\n",
    "logp = Descriptors.MolLogP(mol)\n",
    "hbd = Descriptors.NumHDonors(mol)\n",
    "hba = Descriptors.NumHAcceptors(mol)\n",
    "tpsa = Descriptors.TPSA(mol)\n",
    "\n",
    "# Calcule outros descritores\n",
    "nrb = Descriptors.NumRotatableBonds(mol)\n",
    "arom = Descriptors.NumAromaticRings(mol)\n",
    "hetero = Descriptors.NumHeteroatoms(mol)\n",
    "heavy = Descriptors.HeavyAtomCount(mol)\n",
    "ringcount = Descriptors.RingCount(mol)\n",
    "\n",
    "\n",
    "# Imprima os valores das propriedades e as regras de Lipinski e o método Veber\n",
    "print(f\"Molécula: {smiles}\")\n",
    "\n",
    "print(f\"Peso Molecular: {mw:.2f}\")\n",
    "print(f\"LogP: {logp:.2f}\")\n",
    "print(f\"Doadores de Hidrogênio: {hbd}\")\n",
    "print(f\"Acceptores de Hidrogênio: {hba}\")\n",
    "print(f\"TPSA: {tpsa:.2f}\")\n",
    "print(f\"Número de ligações rotacionais: {nrb}\")\n",
    "print(f\"Número de anéis aromáticos: {arom}\")\n",
    "print(f\"Número de heteroátomos: {hetero}\")\n",
    "print(f\"Número de átomos pesados: {heavy}\")\n",
    "print(f\"Número de anéis: {ringcount}\")"
   ]
  },
  {
   "cell_type": "code",
   "execution_count": 4,
   "metadata": {},
   "outputs": [
    {
     "name": "stdout",
     "output_type": "stream",
     "text": [
      "                                           Molecule  Molecular Weight    LogP  \\\n",
      "0  CS(=O)(=O)C1=CC=C(C=C1)C2=C(C(=O)OC2)C3=CC=CC=C3           314.362  2.5577   \n",
      "\n",
      "   Donors  Acceptors   TPSA  Rotatable Bonds  Aromatic Rings  Heteroatoms  \\\n",
      "0       0          4  60.44                3               2            5   \n",
      "\n",
      "   Heavy Atoms  Rings  \n",
      "0           22      3  \n"
     ]
    }
   ],
   "source": [
    "import pandas as pd\n",
    "\n",
    "# Create a dictionary with the property names and values\n",
    "data = {\n",
    "    \"Molecule\": smiles,\n",
    "    \"Molecular Weight\": mw,\n",
    "    \"LogP\": logp,\n",
    "    \"Donors\": hbd,\n",
    "    \"Acceptors\": hba,\n",
    "    \"TPSA\": tpsa,\n",
    "    \"Rotatable Bonds\": nrb,\n",
    "    \"Aromatic Rings\": arom,\n",
    "    \"Heteroatoms\": hetero,\n",
    "    \"Heavy Atoms\": heavy,\n",
    "    \"Rings\": ringcount\n",
    "}\n",
    "\n",
    "# Create the dataframe\n",
    "tabela = pd.DataFrame([data])\n",
    "\n",
    "# Print the dataframe\n",
    "print(tabela)"
   ]
  },
  {
   "cell_type": "code",
   "execution_count": 7,
   "metadata": {},
   "outputs": [],
   "source": [
    "# Create the dataframe pip install openpyxl\n",
    "tabela = pd.DataFrame([data])\n",
    "\n",
    "# Save the dataframe to an Excel file\n",
    "tabela.to_excel(r\"C:\\Users\\SEEMG\\Desktop\\molecule_properties.xlsx\", index=False)"
   ]
  }
 ],
 "metadata": {
  "kernelspec": {
   "display_name": "Python 3",
   "language": "python",
   "name": "python3"
  },
  "language_info": {
   "codemirror_mode": {
    "name": "ipython",
    "version": 3
   },
   "file_extension": ".py",
   "mimetype": "text/x-python",
   "name": "python",
   "nbconvert_exporter": "python",
   "pygments_lexer": "ipython3",
   "version": "3.11.1"
  },
  "orig_nbformat": 4
 },
 "nbformat": 4,
 "nbformat_minor": 2
}
