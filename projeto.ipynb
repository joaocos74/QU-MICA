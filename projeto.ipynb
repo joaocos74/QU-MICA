{
 "cells": [
  {
   "cell_type": "code",
   "execution_count": 1,
   "metadata": {},
   "outputs": [
    {
     "name": "stdout",
     "output_type": "stream",
     "text": [
      "ÓLA JOÃO\n"
     ]
    }
   ],
   "source": [
    "nome= \"ÓLA JOÃO\"\n",
    "print (nome)"
   ]
  }
 ],
 "metadata": {
  "kernelspec": {
   "display_name": "Python 3",
   "language": "python",
   "name": "python3"
  },
  "language_info": {
   "codemirror_mode": {
    "name": "ipython",
    "version": 3
   },
   "file_extension": ".py",
   "mimetype": "text/x-python",
   "name": "python",
   "nbconvert_exporter": "python",
   "pygments_lexer": "ipython3",
   "version": "3.11.1"
  },
  "orig_nbformat": 4,
  "vscode": {
   "interpreter": {
    "hash": "dc94eea4ce7e62ef34f664ad51bfa23e834cb6402913ee504654d329bbee2b88"
   }
  }
 },
 "nbformat": 4,
 "nbformat_minor": 2
}
