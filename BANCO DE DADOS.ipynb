{
 "cells": [
  {
   "cell_type": "code",
   "execution_count": 16,
   "metadata": {},
   "outputs": [
    {
     "name": "stdout",
     "output_type": "stream",
     "text": [
      "<class 'pandas.core.frame.DataFrame'>\n",
      "RangeIndex: 47 entries, 0 to 46\n",
      "Data columns (total 22 columns):\n",
      " #   Column       Non-Null Count  Dtype \n",
      "---  ------       --------------  ----- \n",
      " 0   MOLECULAS    47 non-null     object\n",
      " 1   NATHALIA     47 non-null     object\n",
      " 2   ALUNO A      47 non-null     object\n",
      " 3   FRANCIELY    47 non-null     object\n",
      " 4   ALUNO B      47 non-null     object\n",
      " 5   ALUNO C      47 non-null     object\n",
      " 6   FABIO        47 non-null     object\n",
      " 7   MARIANA      47 non-null     object\n",
      " 8   VICTOR       47 non-null     object\n",
      " 9   JANIO        47 non-null     object\n",
      " 10  ALUNO X      47 non-null     object\n",
      " 11  ALUNO Y      47 non-null     object\n",
      " 12  ALUNO W      47 non-null     object\n",
      " 13  ALUNOZ       47 non-null     object\n",
      " 14  ALUNO Z      47 non-null     object\n",
      " 15  ALUNO V      47 non-null     object\n",
      " 16  AMANDA       47 non-null     object\n",
      " 17  JOAO CARLOS  47 non-null     object\n",
      " 18  ALUNO  D     47 non-null     object\n",
      " 19  ALUNO T      47 non-null     object\n",
      " 20  ALUNO S      47 non-null     object\n",
      " 21  LUANA        47 non-null     object\n",
      "dtypes: object(22)\n",
      "memory usage: 8.2+ KB\n",
      "None\n"
     ]
    }
   ],
   "source": [
    "#ABRIR A BASE DE DADOS\n",
    "import pandas as pd\n",
    "tabela = pd.read_csv(\"banco de daos tcc.csv\")\n",
    "#colocar todas as letras em minuscula \n",
    "tabela= tabela.applymap(lambda x: x.lower() if isinstance(x, str) else x)\n",
    "tabela_copia = tabela.copy()\n",
    "\n",
    "\n",
    "#VISUALIZAR A BASE DE DADOS\n",
    "print(tabela.info())\n",
    "          #ENTENDER A AS INFORMAÇOES DA BASE DE DADOS \n",
    "          #PROCURAR OS ERROS DA BASES DE DADOS         "
   ]
  },
  {
   "cell_type": "code",
   "execution_count": 17,
   "metadata": {
    "scrolled": true
   },
   "outputs": [
    {
     "data": {
      "text/html": [
       "<div>\n",
       "<style scoped>\n",
       "    .dataframe tbody tr th:only-of-type {\n",
       "        vertical-align: middle;\n",
       "    }\n",
       "\n",
       "    .dataframe tbody tr th {\n",
       "        vertical-align: top;\n",
       "    }\n",
       "\n",
       "    .dataframe thead th {\n",
       "        text-align: right;\n",
       "    }\n",
       "</style>\n",
       "<table border=\"1\" class=\"dataframe\">\n",
       "  <thead>\n",
       "    <tr style=\"text-align: right;\">\n",
       "      <th></th>\n",
       "      <th>MOLECULAS</th>\n",
       "      <th>NATHALIA</th>\n",
       "      <th>ALUNO A</th>\n",
       "      <th>FRANCIELY</th>\n",
       "      <th>ALUNO B</th>\n",
       "      <th>ALUNO C</th>\n",
       "      <th>FABIO</th>\n",
       "      <th>MARIANA</th>\n",
       "      <th>VICTOR</th>\n",
       "      <th>JANIO</th>\n",
       "      <th>...</th>\n",
       "      <th>ALUNO W</th>\n",
       "      <th>ALUNOZ</th>\n",
       "      <th>ALUNO Z</th>\n",
       "      <th>ALUNO V</th>\n",
       "      <th>AMANDA</th>\n",
       "      <th>JOAO CARLOS</th>\n",
       "      <th>ALUNO  D</th>\n",
       "      <th>ALUNO T</th>\n",
       "      <th>ALUNO S</th>\n",
       "      <th>LUANA</th>\n",
       "    </tr>\n",
       "  </thead>\n",
       "  <tbody>\n",
       "    <tr>\n",
       "      <th>count</th>\n",
       "      <td>47</td>\n",
       "      <td>47</td>\n",
       "      <td>47</td>\n",
       "      <td>47</td>\n",
       "      <td>47</td>\n",
       "      <td>47</td>\n",
       "      <td>47</td>\n",
       "      <td>47</td>\n",
       "      <td>47</td>\n",
       "      <td>47</td>\n",
       "      <td>...</td>\n",
       "      <td>47</td>\n",
       "      <td>47</td>\n",
       "      <td>47</td>\n",
       "      <td>47</td>\n",
       "      <td>47</td>\n",
       "      <td>47</td>\n",
       "      <td>47</td>\n",
       "      <td>47</td>\n",
       "      <td>47</td>\n",
       "      <td>47</td>\n",
       "    </tr>\n",
       "    <tr>\n",
       "      <th>unique</th>\n",
       "      <td>26</td>\n",
       "      <td>2</td>\n",
       "      <td>2</td>\n",
       "      <td>2</td>\n",
       "      <td>2</td>\n",
       "      <td>2</td>\n",
       "      <td>2</td>\n",
       "      <td>2</td>\n",
       "      <td>2</td>\n",
       "      <td>2</td>\n",
       "      <td>...</td>\n",
       "      <td>2</td>\n",
       "      <td>2</td>\n",
       "      <td>2</td>\n",
       "      <td>2</td>\n",
       "      <td>2</td>\n",
       "      <td>2</td>\n",
       "      <td>2</td>\n",
       "      <td>2</td>\n",
       "      <td>2</td>\n",
       "      <td>2</td>\n",
       "    </tr>\n",
       "    <tr>\n",
       "      <th>top</th>\n",
       "      <td>álcool</td>\n",
       "      <td>errado</td>\n",
       "      <td>correto</td>\n",
       "      <td>correto</td>\n",
       "      <td>correto</td>\n",
       "      <td>correto</td>\n",
       "      <td>correto</td>\n",
       "      <td>errado</td>\n",
       "      <td>errado</td>\n",
       "      <td>correto</td>\n",
       "      <td>...</td>\n",
       "      <td>correto</td>\n",
       "      <td>correto</td>\n",
       "      <td>correto</td>\n",
       "      <td>correto</td>\n",
       "      <td>correto</td>\n",
       "      <td>correto</td>\n",
       "      <td>correto</td>\n",
       "      <td>correto</td>\n",
       "      <td>correto</td>\n",
       "      <td>correto</td>\n",
       "    </tr>\n",
       "    <tr>\n",
       "      <th>freq</th>\n",
       "      <td>6</td>\n",
       "      <td>29</td>\n",
       "      <td>29</td>\n",
       "      <td>32</td>\n",
       "      <td>33</td>\n",
       "      <td>33</td>\n",
       "      <td>36</td>\n",
       "      <td>26</td>\n",
       "      <td>28</td>\n",
       "      <td>37</td>\n",
       "      <td>...</td>\n",
       "      <td>32</td>\n",
       "      <td>39</td>\n",
       "      <td>32</td>\n",
       "      <td>41</td>\n",
       "      <td>34</td>\n",
       "      <td>39</td>\n",
       "      <td>31</td>\n",
       "      <td>43</td>\n",
       "      <td>34</td>\n",
       "      <td>28</td>\n",
       "    </tr>\n",
       "  </tbody>\n",
       "</table>\n",
       "<p>4 rows × 22 columns</p>\n",
       "</div>"
      ],
      "text/plain": [
       "       MOLECULAS NATHALIA  ALUNO A FRANCIELY  ALUNO B  ALUNO C    FABIO  \\\n",
       "count         47       47       47        47       47       47       47   \n",
       "unique        26        2        2         2        2        2        2   \n",
       "top       álcool   errado  correto   correto  correto  correto  correto   \n",
       "freq           6       29       29        32       33       33       36   \n",
       "\n",
       "       MARIANA  VICTOR    JANIO  ...  ALUNO W   ALUNOZ  ALUNO Z  ALUNO V  \\\n",
       "count       47      47       47  ...       47       47       47       47   \n",
       "unique       2       2        2  ...        2        2        2        2   \n",
       "top     errado  errado  correto  ...  correto  correto  correto  correto   \n",
       "freq        26      28       37  ...       32       39       32       41   \n",
       "\n",
       "         AMANDA JOAO CARLOS ALUNO  D  ALUNO T  ALUNO S    LUANA  \n",
       "count        47          47       47       47       47       47  \n",
       "unique        2           2        2        2        2        2  \n",
       "top     correto     correto  correto  correto  correto  correto  \n",
       "freq         34          39       31       43       34       28  \n",
       "\n",
       "[4 rows x 22 columns]"
      ]
     },
     "metadata": {},
     "output_type": "display_data"
    }
   ],
   "source": [
    "#TRATAO OS DADOS\n",
    "display(tabela.describe())"
   ]
  },
  {
   "cell_type": "code",
   "execution_count": 18,
   "metadata": {
    "scrolled": true
   },
   "outputs": [
    {
     "name": "stdout",
     "output_type": "stream",
     "text": [
      "Quantidade de moléculas corretas: 674\n",
      "Quantidade de moléculas erradas: 313\n"
     ]
    }
   ],
   "source": [
    "#TRATAO OS DADOS\n",
    "quantidade_corretas = (tabela.iloc[:, 1:] == 'correto').sum().sum()\n",
    "quantidade_erradas = (tabela.iloc[:, 1:] == 'errado').sum().sum()\n",
    "\n",
    "# Imprima os resultados\n",
    "print('Quantidade de moléculas corretas:', quantidade_corretas)\n",
    "print('Quantidade de moléculas erradas:', quantidade_erradas)\n",
    "\n"
   ]
  },
  {
   "cell_type": "code",
   "execution_count": 19,
   "metadata": {},
   "outputs": [
    {
     "data": {
      "application/vnd.plotly.v1+json": {
       "config": {
        "plotlyServerURL": "https://plot.ly"
       },
       "data": [
        {
         "alignmentgroup": "True",
         "hovertemplate": "Status das Moléculas=%{x}<br>Quantidade de Moléculas=%{y}<extra></extra>",
         "legendgroup": "Corretas",
         "marker": {
          "color": "green",
          "pattern": {
           "shape": ""
          }
         },
         "name": "Corretas",
         "offsetgroup": "Corretas",
         "orientation": "v",
         "showlegend": true,
         "textposition": "auto",
         "type": "bar",
         "x": [
          "Corretas"
         ],
         "xaxis": "x",
         "y": [
          674
         ],
         "yaxis": "y"
        },
        {
         "alignmentgroup": "True",
         "hovertemplate": "Status das Moléculas=%{x}<br>Quantidade de Moléculas=%{y}<extra></extra>",
         "legendgroup": "Erradas",
         "marker": {
          "color": "red",
          "pattern": {
           "shape": ""
          }
         },
         "name": "Erradas",
         "offsetgroup": "Erradas",
         "orientation": "v",
         "showlegend": true,
         "textposition": "auto",
         "type": "bar",
         "x": [
          "Erradas"
         ],
         "xaxis": "x",
         "y": [
          313
         ],
         "yaxis": "y"
        }
       ],
       "layout": {
        "barmode": "relative",
        "legend": {
         "title": {
          "text": "Status das Moléculas"
         },
         "tracegroupgap": 0
        },
        "margin": {
         "t": 60
        },
        "template": {
         "data": {
          "bar": [
           {
            "error_x": {
             "color": "#2a3f5f"
            },
            "error_y": {
             "color": "#2a3f5f"
            },
            "marker": {
             "line": {
              "color": "#E5ECF6",
              "width": 0.5
             },
             "pattern": {
              "fillmode": "overlay",
              "size": 10,
              "solidity": 0.2
             }
            },
            "type": "bar"
           }
          ],
          "barpolar": [
           {
            "marker": {
             "line": {
              "color": "#E5ECF6",
              "width": 0.5
             },
             "pattern": {
              "fillmode": "overlay",
              "size": 10,
              "solidity": 0.2
             }
            },
            "type": "barpolar"
           }
          ],
          "carpet": [
           {
            "aaxis": {
             "endlinecolor": "#2a3f5f",
             "gridcolor": "white",
             "linecolor": "white",
             "minorgridcolor": "white",
             "startlinecolor": "#2a3f5f"
            },
            "baxis": {
             "endlinecolor": "#2a3f5f",
             "gridcolor": "white",
             "linecolor": "white",
             "minorgridcolor": "white",
             "startlinecolor": "#2a3f5f"
            },
            "type": "carpet"
           }
          ],
          "choropleth": [
           {
            "colorbar": {
             "outlinewidth": 0,
             "ticks": ""
            },
            "type": "choropleth"
           }
          ],
          "contour": [
           {
            "colorbar": {
             "outlinewidth": 0,
             "ticks": ""
            },
            "colorscale": [
             [
              0,
              "#0d0887"
             ],
             [
              0.1111111111111111,
              "#46039f"
             ],
             [
              0.2222222222222222,
              "#7201a8"
             ],
             [
              0.3333333333333333,
              "#9c179e"
             ],
             [
              0.4444444444444444,
              "#bd3786"
             ],
             [
              0.5555555555555556,
              "#d8576b"
             ],
             [
              0.6666666666666666,
              "#ed7953"
             ],
             [
              0.7777777777777778,
              "#fb9f3a"
             ],
             [
              0.8888888888888888,
              "#fdca26"
             ],
             [
              1,
              "#f0f921"
             ]
            ],
            "type": "contour"
           }
          ],
          "contourcarpet": [
           {
            "colorbar": {
             "outlinewidth": 0,
             "ticks": ""
            },
            "type": "contourcarpet"
           }
          ],
          "heatmap": [
           {
            "colorbar": {
             "outlinewidth": 0,
             "ticks": ""
            },
            "colorscale": [
             [
              0,
              "#0d0887"
             ],
             [
              0.1111111111111111,
              "#46039f"
             ],
             [
              0.2222222222222222,
              "#7201a8"
             ],
             [
              0.3333333333333333,
              "#9c179e"
             ],
             [
              0.4444444444444444,
              "#bd3786"
             ],
             [
              0.5555555555555556,
              "#d8576b"
             ],
             [
              0.6666666666666666,
              "#ed7953"
             ],
             [
              0.7777777777777778,
              "#fb9f3a"
             ],
             [
              0.8888888888888888,
              "#fdca26"
             ],
             [
              1,
              "#f0f921"
             ]
            ],
            "type": "heatmap"
           }
          ],
          "heatmapgl": [
           {
            "colorbar": {
             "outlinewidth": 0,
             "ticks": ""
            },
            "colorscale": [
             [
              0,
              "#0d0887"
             ],
             [
              0.1111111111111111,
              "#46039f"
             ],
             [
              0.2222222222222222,
              "#7201a8"
             ],
             [
              0.3333333333333333,
              "#9c179e"
             ],
             [
              0.4444444444444444,
              "#bd3786"
             ],
             [
              0.5555555555555556,
              "#d8576b"
             ],
             [
              0.6666666666666666,
              "#ed7953"
             ],
             [
              0.7777777777777778,
              "#fb9f3a"
             ],
             [
              0.8888888888888888,
              "#fdca26"
             ],
             [
              1,
              "#f0f921"
             ]
            ],
            "type": "heatmapgl"
           }
          ],
          "histogram": [
           {
            "marker": {
             "pattern": {
              "fillmode": "overlay",
              "size": 10,
              "solidity": 0.2
             }
            },
            "type": "histogram"
           }
          ],
          "histogram2d": [
           {
            "colorbar": {
             "outlinewidth": 0,
             "ticks": ""
            },
            "colorscale": [
             [
              0,
              "#0d0887"
             ],
             [
              0.1111111111111111,
              "#46039f"
             ],
             [
              0.2222222222222222,
              "#7201a8"
             ],
             [
              0.3333333333333333,
              "#9c179e"
             ],
             [
              0.4444444444444444,
              "#bd3786"
             ],
             [
              0.5555555555555556,
              "#d8576b"
             ],
             [
              0.6666666666666666,
              "#ed7953"
             ],
             [
              0.7777777777777778,
              "#fb9f3a"
             ],
             [
              0.8888888888888888,
              "#fdca26"
             ],
             [
              1,
              "#f0f921"
             ]
            ],
            "type": "histogram2d"
           }
          ],
          "histogram2dcontour": [
           {
            "colorbar": {
             "outlinewidth": 0,
             "ticks": ""
            },
            "colorscale": [
             [
              0,
              "#0d0887"
             ],
             [
              0.1111111111111111,
              "#46039f"
             ],
             [
              0.2222222222222222,
              "#7201a8"
             ],
             [
              0.3333333333333333,
              "#9c179e"
             ],
             [
              0.4444444444444444,
              "#bd3786"
             ],
             [
              0.5555555555555556,
              "#d8576b"
             ],
             [
              0.6666666666666666,
              "#ed7953"
             ],
             [
              0.7777777777777778,
              "#fb9f3a"
             ],
             [
              0.8888888888888888,
              "#fdca26"
             ],
             [
              1,
              "#f0f921"
             ]
            ],
            "type": "histogram2dcontour"
           }
          ],
          "mesh3d": [
           {
            "colorbar": {
             "outlinewidth": 0,
             "ticks": ""
            },
            "type": "mesh3d"
           }
          ],
          "parcoords": [
           {
            "line": {
             "colorbar": {
              "outlinewidth": 0,
              "ticks": ""
             }
            },
            "type": "parcoords"
           }
          ],
          "pie": [
           {
            "automargin": true,
            "type": "pie"
           }
          ],
          "scatter": [
           {
            "fillpattern": {
             "fillmode": "overlay",
             "size": 10,
             "solidity": 0.2
            },
            "type": "scatter"
           }
          ],
          "scatter3d": [
           {
            "line": {
             "colorbar": {
              "outlinewidth": 0,
              "ticks": ""
             }
            },
            "marker": {
             "colorbar": {
              "outlinewidth": 0,
              "ticks": ""
             }
            },
            "type": "scatter3d"
           }
          ],
          "scattercarpet": [
           {
            "marker": {
             "colorbar": {
              "outlinewidth": 0,
              "ticks": ""
             }
            },
            "type": "scattercarpet"
           }
          ],
          "scattergeo": [
           {
            "marker": {
             "colorbar": {
              "outlinewidth": 0,
              "ticks": ""
             }
            },
            "type": "scattergeo"
           }
          ],
          "scattergl": [
           {
            "marker": {
             "colorbar": {
              "outlinewidth": 0,
              "ticks": ""
             }
            },
            "type": "scattergl"
           }
          ],
          "scattermapbox": [
           {
            "marker": {
             "colorbar": {
              "outlinewidth": 0,
              "ticks": ""
             }
            },
            "type": "scattermapbox"
           }
          ],
          "scatterpolar": [
           {
            "marker": {
             "colorbar": {
              "outlinewidth": 0,
              "ticks": ""
             }
            },
            "type": "scatterpolar"
           }
          ],
          "scatterpolargl": [
           {
            "marker": {
             "colorbar": {
              "outlinewidth": 0,
              "ticks": ""
             }
            },
            "type": "scatterpolargl"
           }
          ],
          "scatterternary": [
           {
            "marker": {
             "colorbar": {
              "outlinewidth": 0,
              "ticks": ""
             }
            },
            "type": "scatterternary"
           }
          ],
          "surface": [
           {
            "colorbar": {
             "outlinewidth": 0,
             "ticks": ""
            },
            "colorscale": [
             [
              0,
              "#0d0887"
             ],
             [
              0.1111111111111111,
              "#46039f"
             ],
             [
              0.2222222222222222,
              "#7201a8"
             ],
             [
              0.3333333333333333,
              "#9c179e"
             ],
             [
              0.4444444444444444,
              "#bd3786"
             ],
             [
              0.5555555555555556,
              "#d8576b"
             ],
             [
              0.6666666666666666,
              "#ed7953"
             ],
             [
              0.7777777777777778,
              "#fb9f3a"
             ],
             [
              0.8888888888888888,
              "#fdca26"
             ],
             [
              1,
              "#f0f921"
             ]
            ],
            "type": "surface"
           }
          ],
          "table": [
           {
            "cells": {
             "fill": {
              "color": "#EBF0F8"
             },
             "line": {
              "color": "white"
             }
            },
            "header": {
             "fill": {
              "color": "#C8D4E3"
             },
             "line": {
              "color": "white"
             }
            },
            "type": "table"
           }
          ]
         },
         "layout": {
          "annotationdefaults": {
           "arrowcolor": "#2a3f5f",
           "arrowhead": 0,
           "arrowwidth": 1
          },
          "autotypenumbers": "strict",
          "coloraxis": {
           "colorbar": {
            "outlinewidth": 0,
            "ticks": ""
           }
          },
          "colorscale": {
           "diverging": [
            [
             0,
             "#8e0152"
            ],
            [
             0.1,
             "#c51b7d"
            ],
            [
             0.2,
             "#de77ae"
            ],
            [
             0.3,
             "#f1b6da"
            ],
            [
             0.4,
             "#fde0ef"
            ],
            [
             0.5,
             "#f7f7f7"
            ],
            [
             0.6,
             "#e6f5d0"
            ],
            [
             0.7,
             "#b8e186"
            ],
            [
             0.8,
             "#7fbc41"
            ],
            [
             0.9,
             "#4d9221"
            ],
            [
             1,
             "#276419"
            ]
           ],
           "sequential": [
            [
             0,
             "#0d0887"
            ],
            [
             0.1111111111111111,
             "#46039f"
            ],
            [
             0.2222222222222222,
             "#7201a8"
            ],
            [
             0.3333333333333333,
             "#9c179e"
            ],
            [
             0.4444444444444444,
             "#bd3786"
            ],
            [
             0.5555555555555556,
             "#d8576b"
            ],
            [
             0.6666666666666666,
             "#ed7953"
            ],
            [
             0.7777777777777778,
             "#fb9f3a"
            ],
            [
             0.8888888888888888,
             "#fdca26"
            ],
            [
             1,
             "#f0f921"
            ]
           ],
           "sequentialminus": [
            [
             0,
             "#0d0887"
            ],
            [
             0.1111111111111111,
             "#46039f"
            ],
            [
             0.2222222222222222,
             "#7201a8"
            ],
            [
             0.3333333333333333,
             "#9c179e"
            ],
            [
             0.4444444444444444,
             "#bd3786"
            ],
            [
             0.5555555555555556,
             "#d8576b"
            ],
            [
             0.6666666666666666,
             "#ed7953"
            ],
            [
             0.7777777777777778,
             "#fb9f3a"
            ],
            [
             0.8888888888888888,
             "#fdca26"
            ],
            [
             1,
             "#f0f921"
            ]
           ]
          },
          "colorway": [
           "#636efa",
           "#EF553B",
           "#00cc96",
           "#ab63fa",
           "#FFA15A",
           "#19d3f3",
           "#FF6692",
           "#B6E880",
           "#FF97FF",
           "#FECB52"
          ],
          "font": {
           "color": "#2a3f5f"
          },
          "geo": {
           "bgcolor": "white",
           "lakecolor": "white",
           "landcolor": "#E5ECF6",
           "showlakes": true,
           "showland": true,
           "subunitcolor": "white"
          },
          "hoverlabel": {
           "align": "left"
          },
          "hovermode": "closest",
          "mapbox": {
           "style": "light"
          },
          "paper_bgcolor": "white",
          "plot_bgcolor": "#E5ECF6",
          "polar": {
           "angularaxis": {
            "gridcolor": "white",
            "linecolor": "white",
            "ticks": ""
           },
           "bgcolor": "#E5ECF6",
           "radialaxis": {
            "gridcolor": "white",
            "linecolor": "white",
            "ticks": ""
           }
          },
          "scene": {
           "xaxis": {
            "backgroundcolor": "#E5ECF6",
            "gridcolor": "white",
            "gridwidth": 2,
            "linecolor": "white",
            "showbackground": true,
            "ticks": "",
            "zerolinecolor": "white"
           },
           "yaxis": {
            "backgroundcolor": "#E5ECF6",
            "gridcolor": "white",
            "gridwidth": 2,
            "linecolor": "white",
            "showbackground": true,
            "ticks": "",
            "zerolinecolor": "white"
           },
           "zaxis": {
            "backgroundcolor": "#E5ECF6",
            "gridcolor": "white",
            "gridwidth": 2,
            "linecolor": "white",
            "showbackground": true,
            "ticks": "",
            "zerolinecolor": "white"
           }
          },
          "shapedefaults": {
           "line": {
            "color": "#2a3f5f"
           }
          },
          "ternary": {
           "aaxis": {
            "gridcolor": "white",
            "linecolor": "white",
            "ticks": ""
           },
           "baxis": {
            "gridcolor": "white",
            "linecolor": "white",
            "ticks": ""
           },
           "bgcolor": "#E5ECF6",
           "caxis": {
            "gridcolor": "white",
            "linecolor": "white",
            "ticks": ""
           }
          },
          "title": {
           "x": 0.05
          },
          "xaxis": {
           "automargin": true,
           "gridcolor": "white",
           "linecolor": "white",
           "ticks": "",
           "title": {
            "standoff": 15
           },
           "zerolinecolor": "white",
           "zerolinewidth": 2
          },
          "yaxis": {
           "automargin": true,
           "gridcolor": "white",
           "linecolor": "white",
           "ticks": "",
           "title": {
            "standoff": 15
           },
           "zerolinecolor": "white",
           "zerolinewidth": 2
          }
         }
        },
        "xaxis": {
         "anchor": "y",
         "categoryarray": [
          "Corretas",
          "Erradas"
         ],
         "categoryorder": "array",
         "domain": [
          0,
          1
         ],
         "title": {
          "text": "Status das Moléculas"
         }
        },
        "yaxis": {
         "anchor": "x",
         "domain": [
          0,
          1
         ],
         "title": {
          "text": "Quantidade de Moléculas"
         }
        }
       }
      }
     },
     "metadata": {},
     "output_type": "display_data"
    }
   ],
   "source": [
    "import plotly.express as px\n",
    "\n",
    "# Contar a quantidade de moléculas corretas e erradas\n",
    "quantidade_corretas = (tabela.iloc[:, 1:] == 'correto').sum().sum()\n",
    "quantidade_erradas = (tabela.iloc[:, 1:] == 'errado').sum().sum()\n",
    "\n",
    "# Criar o DataFrame para o gráfico\n",
    "dados = {'Status': ['Corretas', 'Erradas'], 'Quantidade': [quantidade_corretas, quantidade_erradas]}\n",
    "df = pd.DataFrame(dados)\n",
    "\n",
    "# Criar o gráfico de barras\n",
    "grafico = px.bar(df, x='Status', y='Quantidade', color='Status', labels={'Status': 'Status das Moléculas', 'Quantidade': 'Quantidade de Moléculas'},\n",
    "color_discrete_map={'Corretas': 'green', 'Erradas': 'red'})\n",
    "    \n",
    "# Mostrar o gráfico\n",
    "grafico.show()\n"
   ]
  },
  {
   "cell_type": "code",
   "execution_count": 20,
   "metadata": {},
   "outputs": [
    {
     "name": "stdout",
     "output_type": "stream",
     "text": [
      "Molécula mais acertada: ALUNO T\n",
      "Molécula mais errada: NATHALIA\n"
     ]
    }
   ],
   "source": [
    "# Calcular a quantidade de acertos e erros por molécula\n",
    "quantidade_acertos = tabela.iloc[:, 1:].eq('correto').sum()\n",
    "quantidade_erros = tabela.iloc[:, 1:].eq('errado').sum()\n",
    "\n",
    "# Encontrar a molécula mais acertada e mais errada\n",
    "molécula_mais_acertada = quantidade_acertos.idxmax()\n",
    "molécula_mais_errada = quantidade_erros.idxmax()\n",
    "\n",
    "# Imprimir os resultados\n",
    "print('Molécula mais acertada:', molécula_mais_acertada)\n",
    "print('Molécula mais errada:', molécula_mais_errada)\n"
   ]
  },
  {
   "cell_type": "code",
   "execution_count": 21,
   "metadata": {},
   "outputs": [
    {
     "data": {
      "image/png": "[encoded data removed]",
      "text/plain": [
       "<Figure size 640x480 with 1 Axes>"
      ]
     },
     "metadata": {},
     "output_type": "display_data"
    }
   ],
   "source": [
    "import matplotlib.pyplot as plt\n",
    "\n",
    "# Calcular o total de acertos e erros\n",
    "total_acertos = quantidade_acertos.sum()\n",
    "total_erros = quantidade_erros.sum()\n",
    "\n",
    "# Criar os dados para o gráfico\n",
    "dados = [total_acertos, total_erros]\n",
    "labels = ['Acertos', 'Erros']\n",
    "colors = ['green', 'red']\n",
    "\n",
    "# Criar o gráfico de pizza\n",
    "plt.pie(dados, labels=labels, colors=colors, autopct='%1.1f%%', startangle=90)\n",
    "\n",
    "# Adicionar título ao gráfico\n",
    "plt.title('Quantidade de Acertos e Erros das Moléculas')\n",
    "\n",
    "# Exibir o gráfico\n",
    "plt.show()\n"
   ]
  },
  {
   "cell_type": "code",
   "execution_count": 22,
   "metadata": {},
   "outputs": [
    {
     "name": "stdout",
     "output_type": "stream",
     "text": [
      "Aluno que acertou mais: haleto de alquila\n",
      "Aluno que errou mais: éter aromático\n"
     ]
    }
   ],
   "source": [
    "# Calcular a quantidade de acertos e erros por aluno\n",
    "quantidade_acertos = tabela.iloc[:, 1:].eq('correto').sum(axis=1)\n",
    "quantidade_erros = tabela.iloc[:, 1:].eq('errado').sum(axis=1)\n",
    "\n",
    "# Encontrar o aluno que acertou mais e o que errou mais\n",
    "aluno_mais_acertou = quantidade_acertos.idxmax()\n",
    "aluno_mais_errou = quantidade_erros.idxmax()\n",
    "\n",
    "# Imprimir os resultados\n",
    "print('Aluno que acertou mais:', tabela.iloc[aluno_mais_acertou, 0])\n",
    "print('Aluno que errou mais:', tabela.iloc[aluno_mais_errou, 0])\n"
   ]
  },
  {
   "cell_type": "code",
   "execution_count": 23,
   "metadata": {},
   "outputs": [
    {
     "data": {
      "image/png": "[encoded data removed]",
      "text/plain": [
       "<Figure size 640x480 with 1 Axes>"
      ]
     },
     "metadata": {},
     "output_type": "display_data"
    }
   ],
   "source": [
    "import matplotlib.pyplot as plt\n",
    "\n",
    "# Calcular o total de acertos e erros\n",
    "total_acertos = quantidade_acertos.sum()\n",
    "total_erros = quantidade_erros.sum()\n",
    "\n",
    "# Criar os dados para o gráfico\n",
    "dados = [total_acertos, total_erros]\n",
    "labels = ['Acertos', 'Erros']\n",
    "colors = ['green', 'red']\n",
    "\n",
    "# Criar o gráfico de pizza\n",
    "plt.pie(dados, labels=labels, colors=colors, autopct='%1.1f%%', startangle=90)\n",
    "\n",
    "# Adicionar título ao gráfico\n",
    "plt.title('Quantidade de Acertos e Erros dos Alunos')\n",
    "\n",
    "# Exibir o gráfico\n",
    "plt.show()\n"
   ]
  },
  {
   "cell_type": "code",
   "execution_count": 25,
   "metadata": {},
   "outputs": [
    {
     "name": "stdout",
     "output_type": "stream",
     "text": [
      "Quantidade de moléculas corretas:\n",
      "NATHALIA       18\n",
      "ALUNO A        29\n",
      "FRANCIELY      32\n",
      "ALUNO B        33\n",
      "ALUNO C        33\n",
      "FABIO          36\n",
      "MARIANA        21\n",
      "VICTOR         19\n",
      "JANIO          37\n",
      "ALUNO X        30\n",
      "ALUNO Y        33\n",
      "ALUNO W        32\n",
      "ALUNOZ         39\n",
      "ALUNO Z        32\n",
      "ALUNO V        41\n",
      "AMANDA         34\n",
      "JOAO CARLOS    39\n",
      "ALUNO  D       31\n",
      "ALUNO T        43\n",
      "ALUNO S        34\n",
      "LUANA          28\n",
      "dtype: int64\n",
      "Quantidade de moléculas erradas:\n",
      "NATHALIA       29\n",
      "ALUNO A        18\n",
      "FRANCIELY      15\n",
      "ALUNO B        14\n",
      "ALUNO C        14\n",
      "FABIO          11\n",
      "MARIANA        26\n",
      "VICTOR         28\n",
      "JANIO          10\n",
      "ALUNO X        17\n",
      "ALUNO Y        14\n",
      "ALUNO W        15\n",
      "ALUNOZ          8\n",
      "ALUNO Z        15\n",
      "ALUNO V         6\n",
      "AMANDA         13\n",
      "JOAO CARLOS     8\n",
      "ALUNO  D       16\n",
      "ALUNO T         4\n",
      "ALUNO S        13\n",
      "LUANA          19\n",
      "dtype: int64\n"
     ]
    }
   ],
   "source": [
    "import pandas as pd\n",
    "\n",
    "\n",
    "# Contar a quantidade de moléculas corretas e erradas por molécula\n",
    "quantidade_corretas = tabela.iloc[:, 1:][tabela.iloc[:, 1:] == 'correto'].count()\n",
    "quantidade_erradas = tabela.iloc[:, 1:][tabela.iloc[:, 1:] == 'errado'].count()\n",
    "\n",
    "# Imprimir os resultados\n",
    "print('Quantidade de moléculas corretas:')\n",
    "print(quantidade_corretas)\n",
    "print('Quantidade de moléculas erradas:')\n",
    "print(quantidade_erradas)\n"
   ]
  },
  {
   "cell_type": "code",
   "execution_count": null,
   "metadata": {},
   "outputs": [],
   "source": []
  }
 ],
 "metadata": {
  "kernelspec": {
   "display_name": "Python 3 (ipykernel)",
   "language": "python",
   "name": "python3"
  },
  "language_info": {
   "codemirror_mode": {
    "name": "ipython",
    "version": 3
   },
   "file_extension": ".py",
   "mimetype": "text/x-python",
   "name": "python",
   "nbconvert_exporter": "python",
   "pygments_lexer": "ipython3",
   "version": "3.10.9"
  }
 },
 "nbformat": 4,
 "nbformat_minor": 2
}
