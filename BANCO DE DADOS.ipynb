{
 "cells": [
  {
   "cell_type": "code",
   "execution_count": 35,
   "metadata": {},
   "outputs": [
    {
     "name": "stdout",
     "output_type": "stream",
     "text": [
      "<class 'pandas.core.frame.DataFrame'>\n",
      "RangeIndex: 47 entries, 0 to 46\n",
      "Data columns (total 22 columns):\n",
      " #   Column       Non-Null Count  Dtype \n",
      "---  ------       --------------  ----- \n",
      " 0   MOLECULAS    47 non-null     object\n",
      " 1   NATHALIA     47 non-null     object\n",
      " 2   ALUNO A      47 non-null     object\n",
      " 3   FRANCIELY    47 non-null     object\n",
      " 4   ALUNO B      47 non-null     object\n",
      " 5   ALUNO C      47 non-null     object\n",
      " 6   FABIO        47 non-null     object\n",
      " 7   MARIANA      47 non-null     object\n",
      " 8   VICTOR       47 non-null     object\n",
      " 9   JANIO        47 non-null     object\n",
      " 10  ALUNO X      47 non-null     object\n",
      " 11  ALUNO Y      47 non-null     object\n",
      " 12  ALUNO W      47 non-null     object\n",
      " 13  ALUNOZ       47 non-null     object\n",
      " 14  ALUNO Z      47 non-null     object\n",
      " 15  ALUNO V      47 non-null     object\n",
      " 16  AMANDA       47 non-null     object\n",
      " 17  JOAO CARLOS  47 non-null     object\n",
      " 18  ALUNO  D     47 non-null     object\n",
      " 19  ALUNO T      47 non-null     object\n",
      " 20  ALUNO S      47 non-null     object\n",
      " 21  LUANA        47 non-null     object\n",
      "dtypes: object(22)\n",
      "memory usage: 8.2+ KB\n",
      "None\n"
     ]
    }
   ],
   "source": [
    "#ABRIR A BASE DE DADOS\n",
    "import pandas as pd\n",
    "tabela = pd.read_csv(\"banco de daos tcc.csv\")\n",
    "#colocar todas as letras em minuscula \n",
    "tabela= tabela.applymap(lambda x: x.lower() if isinstance(x, str) else x)\n",
    "tabela_copia = tabela.copy()\n",
    "\n",
    "\n",
    "#VISUALIZAR A BASE DE DADOS\n",
    "print(tabela.info())\n",
    "          #ENTENDER A AS INFORMAÇOES DA BASE DE DADOS \n",
    "          #PROCURAR OS ERROS DA BASES DE DADOS         "
   ]
  },
  {
   "cell_type": "code",
   "execution_count": 36,
   "metadata": {
    "scrolled": true
   },
   "outputs": [
    {
     "data": {
      "text/html": [
       "<div>\n",
       "<style scoped>\n",
       "    .dataframe tbody tr th:only-of-type {\n",
       "        vertical-align: middle;\n",
       "    }\n",
       "\n",
       "    .dataframe tbody tr th {\n",
       "        vertical-align: top;\n",
       "    }\n",
       "\n",
       "    .dataframe thead th {\n",
       "        text-align: right;\n",
       "    }\n",
       "</style>\n",
       "<table border=\"1\" class=\"dataframe\">\n",
       "  <thead>\n",
       "    <tr style=\"text-align: right;\">\n",
       "      <th></th>\n",
       "      <th>MOLECULAS</th>\n",
       "      <th>NATHALIA</th>\n",
       "      <th>ALUNO A</th>\n",
       "      <th>FRANCIELY</th>\n",
       "      <th>ALUNO B</th>\n",
       "      <th>ALUNO C</th>\n",
       "      <th>FABIO</th>\n",
       "      <th>MARIANA</th>\n",
       "      <th>VICTOR</th>\n",
       "      <th>JANIO</th>\n",
       "      <th>...</th>\n",
       "      <th>ALUNO W</th>\n",
       "      <th>ALUNOZ</th>\n",
       "      <th>ALUNO Z</th>\n",
       "      <th>ALUNO V</th>\n",
       "      <th>AMANDA</th>\n",
       "      <th>JOAO CARLOS</th>\n",
       "      <th>ALUNO  D</th>\n",
       "      <th>ALUNO T</th>\n",
       "      <th>ALUNO S</th>\n",
       "      <th>LUANA</th>\n",
       "    </tr>\n",
       "  </thead>\n",
       "  <tbody>\n",
       "    <tr>\n",
       "      <th>count</th>\n",
       "      <td>47</td>\n",
       "      <td>47</td>\n",
       "      <td>47</td>\n",
       "      <td>47</td>\n",
       "      <td>47</td>\n",
       "      <td>47</td>\n",
       "      <td>47</td>\n",
       "      <td>47</td>\n",
       "      <td>47</td>\n",
       "      <td>47</td>\n",
       "      <td>...</td>\n",
       "      <td>47</td>\n",
       "      <td>47</td>\n",
       "      <td>47</td>\n",
       "      <td>47</td>\n",
       "      <td>47</td>\n",
       "      <td>47</td>\n",
       "      <td>47</td>\n",
       "      <td>47</td>\n",
       "      <td>47</td>\n",
       "      <td>47</td>\n",
       "    </tr>\n",
       "    <tr>\n",
       "      <th>unique</th>\n",
       "      <td>26</td>\n",
       "      <td>2</td>\n",
       "      <td>2</td>\n",
       "      <td>2</td>\n",
       "      <td>2</td>\n",
       "      <td>2</td>\n",
       "      <td>2</td>\n",
       "      <td>2</td>\n",
       "      <td>2</td>\n",
       "      <td>2</td>\n",
       "      <td>...</td>\n",
       "      <td>2</td>\n",
       "      <td>2</td>\n",
       "      <td>2</td>\n",
       "      <td>2</td>\n",
       "      <td>2</td>\n",
       "      <td>2</td>\n",
       "      <td>2</td>\n",
       "      <td>2</td>\n",
       "      <td>2</td>\n",
       "      <td>2</td>\n",
       "    </tr>\n",
       "    <tr>\n",
       "      <th>top</th>\n",
       "      <td>álcool</td>\n",
       "      <td>errado</td>\n",
       "      <td>correto</td>\n",
       "      <td>correto</td>\n",
       "      <td>correto</td>\n",
       "      <td>correto</td>\n",
       "      <td>correto</td>\n",
       "      <td>errado</td>\n",
       "      <td>errado</td>\n",
       "      <td>correto</td>\n",
       "      <td>...</td>\n",
       "      <td>correto</td>\n",
       "      <td>correto</td>\n",
       "      <td>correto</td>\n",
       "      <td>correto</td>\n",
       "      <td>correto</td>\n",
       "      <td>correto</td>\n",
       "      <td>correto</td>\n",
       "      <td>correto</td>\n",
       "      <td>correto</td>\n",
       "      <td>correto</td>\n",
       "    </tr>\n",
       "    <tr>\n",
       "      <th>freq</th>\n",
       "      <td>6</td>\n",
       "      <td>29</td>\n",
       "      <td>29</td>\n",
       "      <td>32</td>\n",
       "      <td>33</td>\n",
       "      <td>33</td>\n",
       "      <td>36</td>\n",
       "      <td>26</td>\n",
       "      <td>28</td>\n",
       "      <td>37</td>\n",
       "      <td>...</td>\n",
       "      <td>32</td>\n",
       "      <td>39</td>\n",
       "      <td>32</td>\n",
       "      <td>41</td>\n",
       "      <td>34</td>\n",
       "      <td>39</td>\n",
       "      <td>31</td>\n",
       "      <td>43</td>\n",
       "      <td>34</td>\n",
       "      <td>28</td>\n",
       "    </tr>\n",
       "  </tbody>\n",
       "</table>\n",
       "<p>4 rows × 22 columns</p>\n",
       "</div>"
      ],
      "text/plain": [
       "       MOLECULAS NATHALIA  ALUNO A FRANCIELY  ALUNO B  ALUNO C    FABIO  \\\n",
       "count         47       47       47        47       47       47       47   \n",
       "unique        26        2        2         2        2        2        2   \n",
       "top       álcool   errado  correto   correto  correto  correto  correto   \n",
       "freq           6       29       29        32       33       33       36   \n",
       "\n",
       "       MARIANA  VICTOR    JANIO  ...  ALUNO W   ALUNOZ  ALUNO Z  ALUNO V  \\\n",
       "count       47      47       47  ...       47       47       47       47   \n",
       "unique       2       2        2  ...        2        2        2        2   \n",
       "top     errado  errado  correto  ...  correto  correto  correto  correto   \n",
       "freq        26      28       37  ...       32       39       32       41   \n",
       "\n",
       "         AMANDA JOAO CARLOS ALUNO  D  ALUNO T  ALUNO S    LUANA  \n",
       "count        47          47       47       47       47       47  \n",
       "unique        2           2        2        2        2        2  \n",
       "top     correto     correto  correto  correto  correto  correto  \n",
       "freq         34          39       31       43       34       28  \n",
       "\n",
       "[4 rows x 22 columns]"
      ]
     },
     "metadata": {},
     "output_type": "display_data"
    }
   ],
   "source": [
    "#TRATAO OS DADOS\n",
    "display(tabela.describe())"
   ]
  },
  {
   "cell_type": "code",
   "execution_count": 37,
   "metadata": {
    "scrolled": true
   },
   "outputs": [
    {
     "name": "stdout",
     "output_type": "stream",
     "text": [
      "Quantidade de moléculas corretas: 674\n",
      "Quantidade de moléculas erradas: 313\n"
     ]
    }
   ],
   "source": [
    "#TRATAO OS DADOS\n",
    "quantidade_corretas = (tabela.iloc[:, 1:] == 'correto').sum().sum()\n",
    "quantidade_erradas = (tabela.iloc[:, 1:] == 'errado').sum().sum()\n",
    "\n",
    "# Imprima os resultados\n",
    "print('Quantidade de moléculas corretas:', quantidade_corretas)\n",
    "print('Quantidade de moléculas erradas:', quantidade_erradas)\n",
    "\n"
   ]
  },
  {
   "cell_type": "code",
   "execution_count": 73,
   "metadata": {},
   "outputs": [
    {
     "ename": "ValueError",
     "evalue": "Mime type rendering requires nbformat>=4.2.0 but it is not installed",
     "output_type": "error",
     "traceback": [
      "\u001b[1;31m---------------------------------------------------------------------------\u001b[0m",
      "\u001b[1;31mValueError\u001b[0m                                Traceback (most recent call last)",
      "Cell \u001b[1;32mIn[73], line 16\u001b[0m\n\u001b[0;32m     12\u001b[0m grafico \u001b[39m=\u001b[39m px\u001b[39m.\u001b[39mbar(df, x\u001b[39m=\u001b[39m\u001b[39m'\u001b[39m\u001b[39mStatus\u001b[39m\u001b[39m'\u001b[39m, y\u001b[39m=\u001b[39m\u001b[39m'\u001b[39m\u001b[39mQuantidade\u001b[39m\u001b[39m'\u001b[39m, color\u001b[39m=\u001b[39m\u001b[39m'\u001b[39m\u001b[39mStatus\u001b[39m\u001b[39m'\u001b[39m, labels\u001b[39m=\u001b[39m{\u001b[39m'\u001b[39m\u001b[39mStatus\u001b[39m\u001b[39m'\u001b[39m: \u001b[39m'\u001b[39m\u001b[39mStatus das Moléculas\u001b[39m\u001b[39m'\u001b[39m, \u001b[39m'\u001b[39m\u001b[39mQuantidade\u001b[39m\u001b[39m'\u001b[39m: \u001b[39m'\u001b[39m\u001b[39mQuantidade de Moléculas\u001b[39m\u001b[39m'\u001b[39m},\n\u001b[0;32m     13\u001b[0m color_discrete_map\u001b[39m=\u001b[39m{\u001b[39m'\u001b[39m\u001b[39mCorretas\u001b[39m\u001b[39m'\u001b[39m: \u001b[39m'\u001b[39m\u001b[39mgreen\u001b[39m\u001b[39m'\u001b[39m, \u001b[39m'\u001b[39m\u001b[39mErradas\u001b[39m\u001b[39m'\u001b[39m: \u001b[39m'\u001b[39m\u001b[39mred\u001b[39m\u001b[39m'\u001b[39m})\n\u001b[0;32m     15\u001b[0m \u001b[39m# Mostrar o gráfico\u001b[39;00m\n\u001b[1;32m---> 16\u001b[0m grafico\u001b[39m.\u001b[39;49mshow()\n",
      "File \u001b[1;32mc:\\Users\\55389\\AppData\\Local\\Programs\\Python\\Python311\\Lib\\site-packages\\plotly\\basedatatypes.py:3390\u001b[0m, in \u001b[0;36mBaseFigure.show\u001b[1;34m(self, *args, **kwargs)\u001b[0m\n\u001b[0;32m   3357\u001b[0m \u001b[39m\u001b[39m\u001b[39m\"\"\"\u001b[39;00m\n\u001b[0;32m   3358\u001b[0m \u001b[39mShow a figure using either the default renderer(s) or the renderer(s)\u001b[39;00m\n\u001b[0;32m   3359\u001b[0m \u001b[39mspecified by the renderer argument\u001b[39;00m\n\u001b[1;32m   (...)\u001b[0m\n\u001b[0;32m   3386\u001b[0m \u001b[39mNone\u001b[39;00m\n\u001b[0;32m   3387\u001b[0m \u001b[39m\"\"\"\u001b[39;00m\n\u001b[0;32m   3388\u001b[0m \u001b[39mimport\u001b[39;00m \u001b[39mplotly\u001b[39;00m\u001b[39m.\u001b[39;00m\u001b[39mio\u001b[39;00m \u001b[39mas\u001b[39;00m \u001b[39mpio\u001b[39;00m\n\u001b[1;32m-> 3390\u001b[0m \u001b[39mreturn\u001b[39;00m pio\u001b[39m.\u001b[39;49mshow(\u001b[39mself\u001b[39;49m, \u001b[39m*\u001b[39;49margs, \u001b[39m*\u001b[39;49m\u001b[39m*\u001b[39;49mkwargs)\n",
      "File \u001b[1;32mc:\\Users\\55389\\AppData\\Local\\Programs\\Python\\Python311\\Lib\\site-packages\\plotly\\io\\_renderers.py:396\u001b[0m, in \u001b[0;36mshow\u001b[1;34m(fig, renderer, validate, **kwargs)\u001b[0m\n\u001b[0;32m    391\u001b[0m         \u001b[39mraise\u001b[39;00m \u001b[39mValueError\u001b[39;00m(\n\u001b[0;32m    392\u001b[0m             \u001b[39m\"\u001b[39m\u001b[39mMime type rendering requires ipython but it is not installed\u001b[39m\u001b[39m\"\u001b[39m\n\u001b[0;32m    393\u001b[0m         )\n\u001b[0;32m    395\u001b[0m     \u001b[39mif\u001b[39;00m \u001b[39mnot\u001b[39;00m nbformat \u001b[39mor\u001b[39;00m Version(nbformat\u001b[39m.\u001b[39m__version__) \u001b[39m<\u001b[39m Version(\u001b[39m\"\u001b[39m\u001b[39m4.2.0\u001b[39m\u001b[39m\"\u001b[39m):\n\u001b[1;32m--> 396\u001b[0m         \u001b[39mraise\u001b[39;00m \u001b[39mValueError\u001b[39;00m(\n\u001b[0;32m    397\u001b[0m             \u001b[39m\"\u001b[39m\u001b[39mMime type rendering requires nbformat>=4.2.0 but it is not installed\u001b[39m\u001b[39m\"\u001b[39m\n\u001b[0;32m    398\u001b[0m         )\n\u001b[0;32m    400\u001b[0m     ipython_display\u001b[39m.\u001b[39mdisplay(bundle, raw\u001b[39m=\u001b[39m\u001b[39mTrue\u001b[39;00m)\n\u001b[0;32m    402\u001b[0m \u001b[39m# external renderers\u001b[39;00m\n",
      "\u001b[1;31mValueError\u001b[0m: Mime type rendering requires nbformat>=4.2.0 but it is not installed"
     ]
    }
   ],
   "source": [
    "import plotly.express as px\n",
    "\n",
    "# Contar a quantidade de moléculas corretas e erradas\n",
    "quantidade_corretas = (tabela.iloc[:, 1:] == 'correto').sum().sum()\n",
    "quantidade_erradas = (tabela.iloc[:, 1:] == 'errado').sum().sum()\n",
    "\n",
    "# Criar o DataFrame para o gráfico\n",
    "dados = {'Status': ['Corretas', 'Erradas'], 'Quantidade': [quantidade_corretas, quantidade_erradas]}\n",
    "df = pd.DataFrame(dados)\n",
    "\n",
    "# Criar o gráfico de barras\n",
    "grafico = px.bar(df, x='Status', y='Quantidade', color='Status', labels={'Status': 'Status das Moléculas', 'Quantidade': 'Quantidade de Moléculas'},\n",
    "color_discrete_map={'Corretas': 'green', 'Erradas': 'red'})\n",
    "    \n",
    "# Mostrar o gráfico\n",
    "grafico.show()\n"
   ]
  },
  {
   "cell_type": "code",
   "execution_count": 75,
   "metadata": {},
   "outputs": [
    {
     "data": {
      "image/png": "[encoded data removed]",
      "text/plain": [
       "<Figure size 640x480 with 1 Axes>"
      ]
     },
     "metadata": {},
     "output_type": "display_data"
    }
   ],
   "source": [
    "import matplotlib.pyplot as plt\n",
    "\n",
    "# Calcular o total de acertos e erros\n",
    "total_acertos = quantidade_acertos.sum()\n",
    "total_erros = quantidade_erros.sum()\n",
    "\n",
    "# Criar os dados para o gráfico\n",
    "dados = [total_acertos, total_erros]\n",
    "labels = ['Acertos', 'Erros']\n",
    "colors = ['green', 'red']\n",
    "\n",
    "# Criar o gráfico de pizza\n",
    "plt.pie(dados, labels=labels, colors=colors, autopct='%1.1f%%', startangle=90)\n",
    "\n",
    "# Adicionar título ao gráfico\n",
    "plt.title('Porcentagem de Acertos e Erros das Moléculas')\n",
    "\n",
    "# Exibir o gráfico\n",
    "plt.show()\n"
   ]
  },
  {
   "cell_type": "code",
   "execution_count": 74,
   "metadata": {},
   "outputs": [
    {
     "name": "stdout",
     "output_type": "stream",
     "text": [
      "alunos com mais acertos: ALUNO T\n",
      "alunos com mais erros: NATHALIA\n"
     ]
    }
   ],
   "source": [
    "# Calcular a quantidade de acertos e erros por molécula\n",
    "quantidade_acertos = tabela.iloc[:, 1:].eq('correto').sum()\n",
    "quantidade_erros = tabela.iloc[:, 1:].eq('errado').sum()\n",
    "\n",
    "# Encontrar a molécula mais acertada e mais errada\n",
    "alunos_com_mais_acertos = quantidade_acertos.idxmax()\n",
    "alunos_com_mais_erros = quantidade_erros.idxmax()\n",
    "\n",
    "# Imprimir os resultados\n",
    "print('alunos com mais acertos:', alunos_com_mais_acertos)\n",
    "print('alunos com mais erros:', alunos_com_mais_erros)\n"
   ]
  },
  {
   "cell_type": "code",
   "execution_count": 70,
   "metadata": {},
   "outputs": [
    {
     "name": "stdout",
     "output_type": "stream",
     "text": [
      "Molécula mais acertada: haleto de alquila\n",
      "Molécula mais errada: éter aromático\n"
     ]
    }
   ],
   "source": [
    "# Calcular a quantidade de acertos e erros por aluno\n",
    "quantidade_acertos = tabela.iloc[:, 1:].eq('correto').sum(axis=1)\n",
    "quantidade_erros = tabela.iloc[:, 1:].eq('errado').sum(axis=1)\n",
    "\n",
    "# Encontrar o aluno que acertou mais e o que errou mais\n",
    "aluno_mais_acertou = quantidade_acertos.idxmax()\n",
    "aluno_mais_errou = quantidade_erros.idxmax()\n",
    "\n",
    "# Imprimir os resultados\n",
    "print('Molécula mais acertada:', tabela.iloc[aluno_mais_acertou, 0])\n",
    "print('Molécula mais errada:', tabela.iloc[aluno_mais_errou, 0])\n"
   ]
  },
  {
   "cell_type": "code",
   "execution_count": 68,
   "metadata": {},
   "outputs": [
    {
     "name": "stdout",
     "output_type": "stream",
     "text": [
      "Quantidade de moléculas corretas por aluno:\n",
      "NATHALIA       18\n",
      "ALUNO A        29\n",
      "FRANCIELY      32\n",
      "ALUNO B        33\n",
      "ALUNO C        33\n",
      "FABIO          36\n",
      "MARIANA        21\n",
      "VICTOR         19\n",
      "JANIO          37\n",
      "ALUNO X        30\n",
      "ALUNO Y        33\n",
      "ALUNO W        32\n",
      "ALUNOZ         39\n",
      "ALUNO Z        32\n",
      "ALUNO V        41\n",
      "AMANDA         34\n",
      "JOAO CARLOS    39\n",
      "ALUNO  D       31\n",
      "ALUNO T        43\n",
      "ALUNO S        34\n",
      "LUANA          28\n",
      "dtype: int64\n",
      "Quantidade de moléculas erradas por aluno:\n",
      "NATHALIA       29\n",
      "ALUNO A        18\n",
      "FRANCIELY      15\n",
      "ALUNO B        14\n",
      "ALUNO C        14\n",
      "FABIO          11\n",
      "MARIANA        26\n",
      "VICTOR         28\n",
      "JANIO          10\n",
      "ALUNO X        17\n",
      "ALUNO Y        14\n",
      "ALUNO W        15\n",
      "ALUNOZ          8\n",
      "ALUNO Z        15\n",
      "ALUNO V         6\n",
      "AMANDA         13\n",
      "JOAO CARLOS     8\n",
      "ALUNO  D       16\n",
      "ALUNO T         4\n",
      "ALUNO S        13\n",
      "LUANA          19\n",
      "dtype: int64\n"
     ]
    }
   ],
   "source": [
    "import pandas as pd\n",
    "\n",
    "\n",
    "# Contar a quantidade de moléculas corretas e erradas por molécula\n",
    "quantidade_corretas = tabela.iloc[:, 1:][tabela.iloc[:, 1:] == 'correto'].count()\n",
    "quantidade_erradas = tabela.iloc[:, 1:][tabela.iloc[:, 1:] == 'errado'].count()\n",
    "\n",
    "# Imprimir os resultados\n",
    "print('Quantidade de moléculas corretas por aluno:')\n",
    "print(quantidade_corretas)\n",
    "print('Quantidade de moléculas erradas por aluno:')\n",
    "print(quantidade_erradas)\n"
   ]
  },
  {
   "cell_type": "code",
   "execution_count": 69,
   "metadata": {},
   "outputs": [
    {
     "data": {
      "image/png": "[encoded data removed]",
      "text/plain": [
       "<Figure size 640x480 with 1 Axes>"
      ]
     },
     "metadata": {},
     "output_type": "display_data"
    }
   ],
   "source": [
    "import pandas as pd\n",
    "import matplotlib.pyplot as plt\n",
    "\n",
    "# Contar a quantidade de moléculas corretas e erradas por molécula\n",
    "quantidade_corretas = tabela.iloc[:, 1:][tabela.iloc[:, 1:] == 'correto'].count(axis=1)\n",
    "quantidade_erradas = tabela.iloc[:, 1:][tabela.iloc[:, 1:] == 'errado'].count(axis=1)\n",
    "\n",
    "# Criar um DataFrame com os resultados\n",
    "dados = pd.DataFrame({'Corretas': quantidade_corretas, 'Erradas': quantidade_erradas})\n",
    "\n",
    "\n",
    "# Criar o gráfico de barras com barras mais grossas (width)\n",
    "dados.plot(kind='bar', width=1.4)\n",
    "\n",
    "# Definir título e rótulos dos eixos\n",
    "plt.title('Quantidade de Moléculas Corretas e Erradas')\n",
    "plt.xlabel('Molécula')\n",
    "plt.ylabel('Quantidade')\n",
    "\n",
    "# Exibir o gráfico\n",
    "plt.show()\n"
   ]
  },
  {
   "cell_type": "code",
   "execution_count": 20,
   "metadata": {},
   "outputs": [],
   "source": [
    "# Create the dataframe pip install openpyxl\n",
    "tabela = pd.DataFrame(quantidade_erradas)\n",
    "\n",
    "# Save the dataframe to an Excel file\n",
    "tabela.to_excel(r\"C:\\Users\\55389\\molecule_properties.xlsx\", index=False)"
   ]
  }
 ],
 "metadata": {
  "kernelspec": {
   "display_name": "Python 3 (ipykernel)",
   "language": "python",
   "name": "python3"
  },
  "language_info": {
   "codemirror_mode": {
    "name": "ipython",
    "version": 3
   },
   "file_extension": ".py",
   "mimetype": "text/x-python",
   "name": "python",
   "nbconvert_exporter": "python",
   "pygments_lexer": "ipython3",
   "version": "3.11.1"
  }
 },
 "nbformat": 4,
 "nbformat_minor": 2
}
